{
  "nbformat": 4,
  "nbformat_minor": 0,
  "metadata": {
    "colab": {
      "name": "Embedding for Programmers",
      "provenance": [],
      "collapsed_sections": []
    },
    "kernelspec": {
      "name": "python3",
      "display_name": "Python 3"
    }
  },
  "cells": [
    {
      "cell_type": "code",
      "metadata": {
        "id": "zxmv1EHupj5P",
        "colab_type": "code",
        "colab": {}
      },
      "source": [
        "import torch\n",
        "import tensorflow as tf"
      ],
      "execution_count": 0,
      "outputs": []
    },
    {
      "cell_type": "markdown",
      "metadata": {
        "id": "hNGg3w0ApQYZ",
        "colab_type": "text"
      },
      "source": [
        "## Embedding for Programmers\n",
        "\n",
        "First we define some parameters:\n",
        "\n",
        "- `num_embeddings`: Size of embedding dictionary. It must be larger than the total number of unique indices in the input.\n",
        "- `embedding_dim`: Dimension of embedding output"
      ]
    },
    {
      "cell_type": "code",
      "metadata": {
        "id": "aBB4SpM3r2fW",
        "colab_type": "code",
        "colab": {}
      },
      "source": [
        "num_embeddings, embedding_dim = 5, 7\n",
        "\n",
        "# These are not coupled with model parameters\n",
        "batch_size = 3\n",
        "seq_len = 13\n",
        "min_index = 0\n",
        "max_index = min_index + num_embeddings\n",
        "\n",
        "I_tc = torch.randint(min_index, max_index, (batch_size, seq_len)) # Input for PyTorch\n",
        "I_tf = tf.random.uniform([batch_size, seq_len], \n",
        "                         minval=min_index, maxval=max_index, dtype=tf.int64) # Input for TensorFlow"
      ],
      "execution_count": 0,
      "outputs": []
    },
    {
      "cell_type": "markdown",
      "metadata": {
        "id": "aYXzA2kfumdB",
        "colab_type": "text"
      },
      "source": [
        "## Simple Embedding\n",
        "\n",
        "[PyTorch](https://pytorch.org/docs/master/generated/torch.nn.Embedding.html):"
      ]
    },
    {
      "cell_type": "code",
      "metadata": {
        "id": "Do0bEClDpjqD",
        "colab_type": "code",
        "colab": {}
      },
      "source": [
        "embedding = torch.nn.Embedding(num_embeddings=num_embeddings,\n",
        "                               embedding_dim=embedding_dim)\n",
        "O = embedding(I_tc)"
      ],
      "execution_count": 0,
      "outputs": []
    },
    {
      "cell_type": "code",
      "metadata": {
        "id": "DnoUv0m0q9ge",
        "colab_type": "code",
        "colab": {}
      },
      "source": [
        "assert O.shape == torch.Size((batch_size, seq_len, embedding_dim))"
      ],
      "execution_count": 0,
      "outputs": []
    },
    {
      "cell_type": "markdown",
      "metadata": {
        "id": "wuEEVpLfsr9-",
        "colab_type": "text"
      },
      "source": [
        "Next, another example in [TensorFlow](https://www.tensorflow.org/api_docs/python/tf/keras/layers/Embedding):"
      ]
    },
    {
      "cell_type": "code",
      "metadata": {
        "id": "QUSytTEUsaEC",
        "colab_type": "code",
        "colab": {}
      },
      "source": [
        "embedding = tf.keras.layers.Embedding(input_dim=num_embeddings,\n",
        "                                      output_dim=embedding_dim)\n",
        "O = embedding(I_tf)"
      ],
      "execution_count": 0,
      "outputs": []
    },
    {
      "cell_type": "code",
      "metadata": {
        "id": "1q8x4n_PtWP6",
        "colab_type": "code",
        "colab": {}
      },
      "source": [
        "assert O.shape == tf.TensorShape((batch_size, seq_len, embedding_dim))"
      ],
      "execution_count": 0,
      "outputs": []
    },
    {
      "cell_type": "markdown",
      "metadata": {
        "id": "swiRMn8fwoNR",
        "colab_type": "text"
      },
      "source": [
        "We can see that *embedding* transforms any shape of integer indices into\n",
        "the same shape of embedding vectors."
      ]
    },
    {
      "cell_type": "code",
      "metadata": {
        "id": "tJLDbiiY1SlW",
        "colab_type": "code",
        "colab": {}
      },
      "source": [
        ""
      ],
      "execution_count": 0,
      "outputs": []
    }
  ]
}